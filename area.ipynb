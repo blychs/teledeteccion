{
 "cells": [
  {
   "cell_type": "code",
   "execution_count": 1,
   "metadata": {},
   "outputs": [],
   "source": [
    "import numpy as np\n",
    "import cartopy.crs as ccrs\n",
    "import xarray as xr"
   ]
  },
  {
   "cell_type": "code",
   "execution_count": 2,
   "metadata": {},
   "outputs": [],
   "source": [
    "ds = xr.open_dataset('Clasificación Sup. Agosto 2020/netcdf_qgis.nc')"
   ]
  },
  {
   "cell_type": "code",
   "execution_count": 7,
   "metadata": {},
   "outputs": [],
   "source": [
    "area_quemada = (ds.Band1.where(ds.Band1==3).notnull().sum() /\n",
    "                ds.Band1.where(ds.Band1>0).notnull().sum()) * 100"
   ]
  },
  {
   "cell_type": "code",
   "execution_count": 4,
   "metadata": {},
   "outputs": [],
   "source": [
    "agua = (ds.Band1.where(ds.Band1>0).where(ds.Band1<3).notnull().sum() /\n",
    "        ds.Band1.where(ds.Band1>0).notnull().sum()) * 100"
   ]
  },
  {
   "cell_type": "code",
   "execution_count": 5,
   "metadata": {},
   "outputs": [],
   "source": [
    "vegetacion = (ds.Band1.where(ds.Band1==4).notnull().sum() /\n",
    "              ds.Band1.where(ds.Band1>0).notnull().sum()) * 100"
   ]
  },
  {
   "cell_type": "code",
   "execution_count": 10,
   "metadata": {},
   "outputs": [
    {
     "name": "stdout",
     "output_type": "stream",
     "text": [
      "<xarray.DataArray 'Band1' ()>\n",
      "array(100.)\n",
      "Area quemada: <xarray.DataArray 'Band1' ()>\n",
      "array(30.86241914)\n",
      "Agua: <xarray.DataArray 'Band1' ()>\n",
      "array(10.58314587)\n",
      "Vegetacion: <xarray.DataArray 'Band1' ()>\n",
      "array(58.55443499)\n"
     ]
    }
   ],
   "source": [
    "print(area_quemada + agua + vegetacion)\n",
    "print('Area quemada: ' + str(area_quemada))\n",
    "print('Agua: ' + str(agua))\n",
    "print('Vegetacion: ' + str(vegetacion))"
   ]
  }
 ],
 "metadata": {
  "kernelspec": {
   "display_name": "Python 3",
   "language": "python",
   "name": "python3"
  },
  "language_info": {
   "codemirror_mode": {
    "name": "ipython",
    "version": 3
   },
   "file_extension": ".py",
   "mimetype": "text/x-python",
   "name": "python",
   "nbconvert_exporter": "python",
   "pygments_lexer": "ipython3",
   "version": "3.7.6"
  }
 },
 "nbformat": 4,
 "nbformat_minor": 4
}
